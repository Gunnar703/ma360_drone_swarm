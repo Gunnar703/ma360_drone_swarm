{
 "cells": [
  {
   "cell_type": "markdown",
   "id": "b0f9d5f8-0e6e-4840-a640-317559d495ba",
   "metadata": {
    "tags": []
   },
   "source": [
    "# Import Libraries"
   ]
  },
  {
   "cell_type": "code",
   "execution_count": 1,
   "id": "4ebe404e-2ea6-4066-9be6-16b2a55f2455",
   "metadata": {},
   "outputs": [],
   "source": [
    "import mesa\n",
    "import numpy as np\n",
    "from swarm_model import SwarmModel\n",
    "from entity_classes.target import Target\n",
    "\n",
    "from IPython import display\n",
    "import matplotlib.pyplot as plt\n",
    "from matplotlib.animation import FuncAnimation"
   ]
  },
  {
   "cell_type": "markdown",
   "id": "a5fb2ca0-24c2-4bbd-886c-ccc0beedbbae",
   "metadata": {
    "tags": []
   },
   "source": [
    "# Visualize Model"
   ]
  },
  {
   "cell_type": "code",
   "execution_count": 3,
   "id": "ea81f777-5640-457e-9137-cef9a62b4107",
   "metadata": {},
   "outputs": [
    {
     "name": "stderr",
     "output_type": "stream",
     "text": [
      "MovieWriter ffmpeg unavailable; using Pillow instead.\n"
     ]
    },
    {
     "data": {
      "image/png": "[encoded data removed]",
      "text/plain": [
       "<Figure size 640x480 with 1 Axes>"
      ]
     },
     "metadata": {},
     "output_type": "display_data"
    }
   ],
   "source": [
    "model = SwarmModel(\n",
    "    n_drones = 10, \n",
    "    domain_width = 200, \n",
    "    domain_height = 200, \n",
    "    drone_diameter = 1, \n",
    "    target_vis_radius = 30,\n",
    "    drone_vis_radius = 20,\n",
    "    drone_weapon_radius = 15\n",
    ")\n",
    "\n",
    "# create a figure and axis objects\n",
    "fig, ax = plt.subplots()\n",
    "\n",
    "# set axis limits\n",
    "ax.set_xlim([0, 200])\n",
    "ax.set_ylim([0, 200])\n",
    "\n",
    "# plot the target as a red circle\n",
    "target_x, target_y = model.schedule.agents[model.target_id].pos\n",
    "ax.plot(target_x, target_y, 'ro')\n",
    "\n",
    "# plot all the drones as blue circles\n",
    "for drone in model.schedule.agents:\n",
    "    if isinstance(drone, Target): continue\n",
    "    drone_x, drone_y = drone.pos\n",
    "    ax.plot(drone_x, drone_y, 'bo')\n",
    "\n",
    "# function to update the plot at each time step\n",
    "def animate(i):\n",
    "    # step the model\n",
    "    model.step()\n",
    "    \n",
    "    # clear the axis\n",
    "    ax.clear()\n",
    "    \n",
    "    # set axis limits\n",
    "    ax.set_xlim([0, 200])\n",
    "    ax.set_ylim([0, 200])\n",
    "    \n",
    "    # plot the target as a red circle\n",
    "    target_x, target_y = model.schedule.agents[model.target_id].pos\n",
    "    ax.plot(target_x, target_y, 'ro')\n",
    "    ax.set_title(f\"t = {i} seconds\")\n",
    "\n",
    "    # plot all the drones as blue circles\n",
    "    for drone in model.schedule.agents:\n",
    "        if isinstance(drone, Target): continue\n",
    "        drone_x, drone_y = drone.pos\n",
    "        ax.plot(drone_x, drone_y, 'bo')\n",
    "\n",
    "# create the animation\n",
    "animation = FuncAnimation(fig, animate, frames=350, interval=50)\n",
    "\n",
    "animation.save(\"animation.gif\")"
   ]
  },
  {
   "cell_type": "code",
   "execution_count": null,
   "id": "1443347e-7c3e-413c-bea8-167c9608facc",
   "metadata": {},
   "outputs": [],
   "source": []
  }
 ],
 "metadata": {
  "kernelspec": {
   "display_name": "Python 3 (ipykernel)",
   "language": "python",
   "name": "python3"
  },
  "language_info": {
   "codemirror_mode": {
    "name": "ipython",
    "version": 3
   },
   "file_extension": ".py",
   "mimetype": "text/x-python",
   "name": "python",
   "nbconvert_exporter": "python",
   "pygments_lexer": "ipython3",
   "version": "3.10.10"
  }
 },
 "nbformat": 4,
 "nbformat_minor": 5
}
