{
 "cells": [
  {
   "cell_type": "markdown",
   "id": "b0f9d5f8-0e6e-4840-a640-317559d495ba",
   "metadata": {
    "tags": []
   },
   "source": [
    "# Import Libraries"
   ]
  },
  {
   "cell_type": "code",
   "execution_count": 1,
   "id": "4ebe404e-2ea6-4066-9be6-16b2a55f2455",
   "metadata": {},
   "outputs": [],
   "source": [
    "import mesa\n",
    "import numpy as np\n",
    "from swarm_model import SwarmModel\n",
    "from entity_classes.target import Target\n",
    "\n",
    "from IPython import display\n",
    "import matplotlib.pyplot as plt\n",
    "from matplotlib.animation import FuncAnimation"
   ]
  },
  {
   "cell_type": "markdown",
   "id": "a5fb2ca0-24c2-4bbd-886c-ccc0beedbbae",
   "metadata": {
    "tags": []
   },
   "source": [
    "# Visualize Model"
   ]
  },
  {
   "cell_type": "code",
   "execution_count": 2,
   "id": "ea81f777-5640-457e-9137-cef9a62b4107",
   "metadata": {},
   "outputs": [
    {
     "name": "stderr",
     "output_type": "stream",
     "text": [
      "MovieWriter ffmpeg unavailable; using Pillow instead.\n"
     ]
    },
    {
     "data": {
      "image/png": "[encoded data removed]",
      "text/plain": [
       "<Figure size 640x480 with 1 Axes>"
      ]
     },
     "metadata": {},
     "output_type": "display_data"
    }
   ],
   "source": [
    "model = SwarmModel(\n",
    "    n_drones = 15, \n",
    "    domain_width = 1000, \n",
    "    domain_height = 1000, \n",
    "    drone_diameter = 1, \n",
    "    target_vis_radius = 300,\n",
    "    target_weapon_range = 300,\n",
    "    drone_vis_radius = 150,\n",
    "    drone_weapon_radius = 15,\n",
    "    drone_max_accuracy = .7\n",
    ")\n",
    "\n",
    "target_x, target_y = model.target.pos\n",
    "\n",
    "# target orientation parameters\n",
    "target_vis_radius = model.target.vis_radius\n",
    "arrow_half_len    = target_vis_radius / 6\n",
    "arrow_angle       = model.target.direction\n",
    "arrow_start_x     = target_x\n",
    "arrow_start_y     = target_y\n",
    "arrow_dx          = arrow_half_len * np.cos(arrow_angle)\n",
    "arrow_dy          = arrow_half_len * np.sin(arrow_angle)\n",
    "\n",
    "# create a figure and axis objects\n",
    "fig, ax = plt.subplots()\n",
    "\n",
    "# set axis limits\n",
    "ax.set_xlim([0, model.domain.width])\n",
    "ax.set_ylim([0, model.domain.height])\n",
    "\n",
    "# plot the target's vis. radius\n",
    "theta = np.linspace(0, 2*np.pi)\n",
    "vrx, vry = target_vis_radius * np.array([ np.cos(theta), np.sin(theta) ])\n",
    "vrx += target_x\n",
    "vry += target_y\n",
    "ax.plot(vrx, vry, 'r', linewidth=.5)\n",
    "\n",
    "# plot the target's orientation\n",
    "plt.arrow(arrow_start_x, arrow_start_y, arrow_dx, arrow_dy, color='r', linewidth=.5)\n",
    "ax.set_aspect('equal')\n",
    "\n",
    "# plot all the drones as blue circles\n",
    "for drone in model.schedule.agents:\n",
    "    if isinstance(drone, Target): continue\n",
    "    drone_x, drone_y = drone.pos\n",
    "    ax.plot(drone_x, drone_y, 'bo')\n",
    "\n",
    "# function to update the plot at each time step\n",
    "def animate(i):\n",
    "    # step the model\n",
    "    model.step()\n",
    "    \n",
    "    # clear the axis\n",
    "    ax.clear()\n",
    "    \n",
    "    # set axis limits\n",
    "    ax.set_xlim([0, model.domain.width])\n",
    "    ax.set_ylim([0, model.domain.height])\n",
    "    \n",
    "    target_x, target_y = model.target.pos\n",
    "\n",
    "    # target orientation parameters\n",
    "    arrow_angle       = model.target.direction\n",
    "    arrow_start_x     = target_x\n",
    "    arrow_start_y     = target_y\n",
    "    arrow_dx          = arrow_half_len * np.cos(arrow_angle)\n",
    "    arrow_dy          = arrow_half_len * np.sin(arrow_angle)\n",
    "    \n",
    "    # plot the target as a red circle\n",
    "    target_x, target_y = model.target.pos\n",
    "    ax.plot(target_x, target_y, 'ro', markersize=2)\n",
    "\n",
    "    # plot the target's vis. radius\n",
    "    ax.plot(vrx, vry, 'r', linewidth=.5)\n",
    "\n",
    "    # plot the target's orientation\n",
    "    plt.arrow(arrow_start_x, arrow_start_y, arrow_dx, arrow_dy, color='red', linewidth=.5)\n",
    "\n",
    "    # plot all the drones as blue circles\n",
    "    for drone in model.schedule.agents:\n",
    "        if isinstance(drone, Target): continue\n",
    "        drone_x, drone_y = drone.pos\n",
    "        ax.plot(drone_x, drone_y, 'bo')\n",
    "\n",
    "# create the animation\n",
    "animation = FuncAnimation(fig, animate, frames=60, interval=150)\n",
    "\n",
    "animation.save(\"animation.gif\")"
   ]
  },
  {
   "cell_type": "code",
   "execution_count": null,
   "id": "ff824fca-2e00-422a-9bd4-b74ec3d95699",
   "metadata": {},
   "outputs": [],
   "source": []
  }
 ],
 "metadata": {
  "kernelspec": {
   "display_name": "Python 3 (ipykernel)",
   "language": "python",
   "name": "python3"
  },
  "language_info": {
   "codemirror_mode": {
    "name": "ipython",
    "version": 3
   },
   "file_extension": ".py",
   "mimetype": "text/x-python",
   "name": "python",
   "nbconvert_exporter": "python",
   "pygments_lexer": "ipython3",
   "version": "3.10.10"
  }
 },
 "nbformat": 4,
 "nbformat_minor": 5
}
